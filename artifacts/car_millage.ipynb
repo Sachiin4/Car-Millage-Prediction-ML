{
 "cells": [
  {
   "cell_type": "code",
   "execution_count": 35,
   "id": "9b27054e",
   "metadata": {},
   "outputs": [],
   "source": [
    "import pandas as pd \n",
    "import numpy as np \n",
    "import matplotlib.pyplot as plt \n",
    "import seaborn as sns \n",
    "\n",
    "from sklearn.model_selection import train_test_split,GridSearchCV, RandomizedSearchCV\n",
    "from sklearn.linear_model import LinearRegression\n",
    "from sklearn.metrics import mean_squared_error, mean_absolute_error, r2_score\n",
    "\n",
    "import pickle\n",
    "import json\n"
   ]
  },
  {
   "cell_type": "code",
   "execution_count": 36,
   "id": "62607ce4",
   "metadata": {},
   "outputs": [
    {
     "data": {
      "text/html": [
       "<div>\n",
       "<style scoped>\n",
       "    .dataframe tbody tr th:only-of-type {\n",
       "        vertical-align: middle;\n",
       "    }\n",
       "\n",
       "    .dataframe tbody tr th {\n",
       "        vertical-align: top;\n",
       "    }\n",
       "\n",
       "    .dataframe thead th {\n",
       "        text-align: right;\n",
       "    }\n",
       "</style>\n",
       "<table border=\"1\" class=\"dataframe\">\n",
       "  <thead>\n",
       "    <tr style=\"text-align: right;\">\n",
       "      <th></th>\n",
       "      <th>Make</th>\n",
       "      <th>Type</th>\n",
       "      <th>Origin</th>\n",
       "      <th>DriveTrain</th>\n",
       "      <th>MSRP</th>\n",
       "      <th>Invoice</th>\n",
       "      <th>EngineSize</th>\n",
       "      <th>Cylinders</th>\n",
       "      <th>Horsepower</th>\n",
       "      <th>MPG_Highway</th>\n",
       "      <th>Weight</th>\n",
       "      <th>Wheelbase</th>\n",
       "      <th>Length</th>\n",
       "      <th>Millage_City</th>\n",
       "    </tr>\n",
       "  </thead>\n",
       "  <tbody>\n",
       "    <tr>\n",
       "      <th>427</th>\n",
       "      <td>Volvo</td>\n",
       "      <td>Wagon</td>\n",
       "      <td>Europe</td>\n",
       "      <td>All</td>\n",
       "      <td>35145</td>\n",
       "      <td>33112</td>\n",
       "      <td>2.5</td>\n",
       "      <td>5.0</td>\n",
       "      <td>208</td>\n",
       "      <td>27</td>\n",
       "      <td>3823</td>\n",
       "      <td>109</td>\n",
       "      <td>186</td>\n",
       "      <td>20</td>\n",
       "    </tr>\n",
       "  </tbody>\n",
       "</table>\n",
       "</div>"
      ],
      "text/plain": [
       "      Make   Type  Origin DriveTrain   MSRP  Invoice  EngineSize  Cylinders  \\\n",
       "427  Volvo  Wagon  Europe        All  35145    33112         2.5        5.0   \n",
       "\n",
       "     Horsepower  MPG_Highway  Weight  Wheelbase  Length  Millage_City  \n",
       "427         208           27    3823        109     186            20  "
      ]
     },
     "execution_count": 36,
     "metadata": {},
     "output_type": "execute_result"
    }
   ],
   "source": [
    "df=pd.read_csv(\"Car_Details.csv\")\n",
    "df.tail(1)"
   ]
  },
  {
   "cell_type": "code",
   "execution_count": 37,
   "id": "c4332cc0",
   "metadata": {},
   "outputs": [],
   "source": [
    "#To Predict the car Millage using below mentioned features "
   ]
  },
  {
   "cell_type": "code",
   "execution_count": 38,
   "id": "b85e817e",
   "metadata": {},
   "outputs": [
    {
     "data": {
      "text/plain": [
       "Index(['Make', 'Type', 'Origin', 'DriveTrain', 'MSRP', 'Invoice', 'EngineSize',\n",
       "       'Cylinders', 'Horsepower', 'MPG_Highway', 'Weight', 'Wheelbase',\n",
       "       'Length', 'Millage_City'],\n",
       "      dtype='object')"
      ]
     },
     "execution_count": 38,
     "metadata": {},
     "output_type": "execute_result"
    }
   ],
   "source": [
    "df.columns"
   ]
  },
  {
   "cell_type": "code",
   "execution_count": 39,
   "id": "a47c44e5",
   "metadata": {},
   "outputs": [
    {
     "name": "stdout",
     "output_type": "stream",
     "text": [
      "<class 'pandas.core.frame.DataFrame'>\n",
      "RangeIndex: 428 entries, 0 to 427\n",
      "Data columns (total 14 columns):\n",
      " #   Column        Non-Null Count  Dtype  \n",
      "---  ------        --------------  -----  \n",
      " 0   Make          428 non-null    object \n",
      " 1   Type          428 non-null    object \n",
      " 2   Origin        428 non-null    object \n",
      " 3   DriveTrain    428 non-null    object \n",
      " 4   MSRP          428 non-null    int64  \n",
      " 5   Invoice       428 non-null    int64  \n",
      " 6   EngineSize    428 non-null    float64\n",
      " 7   Cylinders     426 non-null    float64\n",
      " 8   Horsepower    428 non-null    int64  \n",
      " 9   MPG_Highway   428 non-null    int64  \n",
      " 10  Weight        428 non-null    int64  \n",
      " 11  Wheelbase     428 non-null    int64  \n",
      " 12  Length        428 non-null    int64  \n",
      " 13  Millage_City  428 non-null    int64  \n",
      "dtypes: float64(2), int64(8), object(4)\n",
      "memory usage: 46.9+ KB\n"
     ]
    }
   ],
   "source": [
    "df.info()"
   ]
  },
  {
   "cell_type": "code",
   "execution_count": 40,
   "id": "f6ab409d",
   "metadata": {},
   "outputs": [
    {
     "data": {
      "text/plain": [
       "dtype('O')"
      ]
     },
     "execution_count": 40,
     "metadata": {},
     "output_type": "execute_result"
    }
   ],
   "source": [
    "df['Make'].dtype"
   ]
  },
  {
   "cell_type": "code",
   "execution_count": 41,
   "id": "f23e2b7d",
   "metadata": {},
   "outputs": [
    {
     "data": {
      "text/plain": [
       "array(['Acura', 'Audi', 'BMW', 'Buick', 'Cadillac', 'Chevrolet',\n",
       "       'Chrysler', 'Dodge', 'Ford', 'GMC', 'Honda', 'Hummer', 'Hyundai',\n",
       "       'Infiniti', 'Isuzu', 'Jaguar', 'Jeep', 'Kia', 'Land Rover',\n",
       "       'Lexus', 'Lincoln', 'MINI', 'Mazda', 'Mercedes-Benz', 'Mercury',\n",
       "       'Mitsubishi', 'Nissan', 'Oldsmobile', 'Pontiac', 'Porsche', 'Saab',\n",
       "       'Saturn', 'Scion', 'Subaru', 'Suzuki', 'Toyota', 'Volkswagen',\n",
       "       'Volvo'], dtype=object)"
      ]
     },
     "execution_count": 41,
     "metadata": {},
     "output_type": "execute_result"
    }
   ],
   "source": [
    "df['Make'].unique()"
   ]
  },
  {
   "cell_type": "code",
   "execution_count": 42,
   "id": "848d617d",
   "metadata": {},
   "outputs": [],
   "source": [
    "df = pd.get_dummies(df,columns=['Make'])"
   ]
  },
  {
   "cell_type": "code",
   "execution_count": 43,
   "id": "27c9e947",
   "metadata": {},
   "outputs": [
    {
     "data": {
      "text/html": [
       "<div>\n",
       "<style scoped>\n",
       "    .dataframe tbody tr th:only-of-type {\n",
       "        vertical-align: middle;\n",
       "    }\n",
       "\n",
       "    .dataframe tbody tr th {\n",
       "        vertical-align: top;\n",
       "    }\n",
       "\n",
       "    .dataframe thead th {\n",
       "        text-align: right;\n",
       "    }\n",
       "</style>\n",
       "<table border=\"1\" class=\"dataframe\">\n",
       "  <thead>\n",
       "    <tr style=\"text-align: right;\">\n",
       "      <th></th>\n",
       "      <th>Type</th>\n",
       "      <th>Origin</th>\n",
       "      <th>DriveTrain</th>\n",
       "      <th>MSRP</th>\n",
       "      <th>Invoice</th>\n",
       "      <th>EngineSize</th>\n",
       "      <th>Cylinders</th>\n",
       "      <th>Horsepower</th>\n",
       "      <th>MPG_Highway</th>\n",
       "      <th>Weight</th>\n",
       "      <th>...</th>\n",
       "      <th>Make_Pontiac</th>\n",
       "      <th>Make_Porsche</th>\n",
       "      <th>Make_Saab</th>\n",
       "      <th>Make_Saturn</th>\n",
       "      <th>Make_Scion</th>\n",
       "      <th>Make_Subaru</th>\n",
       "      <th>Make_Suzuki</th>\n",
       "      <th>Make_Toyota</th>\n",
       "      <th>Make_Volkswagen</th>\n",
       "      <th>Make_Volvo</th>\n",
       "    </tr>\n",
       "  </thead>\n",
       "  <tbody>\n",
       "    <tr>\n",
       "      <th>0</th>\n",
       "      <td>SUV</td>\n",
       "      <td>Asia</td>\n",
       "      <td>All</td>\n",
       "      <td>36945</td>\n",
       "      <td>33337</td>\n",
       "      <td>3.5</td>\n",
       "      <td>6.0</td>\n",
       "      <td>265</td>\n",
       "      <td>23</td>\n",
       "      <td>4451</td>\n",
       "      <td>...</td>\n",
       "      <td>0</td>\n",
       "      <td>0</td>\n",
       "      <td>0</td>\n",
       "      <td>0</td>\n",
       "      <td>0</td>\n",
       "      <td>0</td>\n",
       "      <td>0</td>\n",
       "      <td>0</td>\n",
       "      <td>0</td>\n",
       "      <td>0</td>\n",
       "    </tr>\n",
       "    <tr>\n",
       "      <th>1</th>\n",
       "      <td>Sedan</td>\n",
       "      <td>Asia</td>\n",
       "      <td>Front</td>\n",
       "      <td>23820</td>\n",
       "      <td>21761</td>\n",
       "      <td>2.0</td>\n",
       "      <td>4.0</td>\n",
       "      <td>200</td>\n",
       "      <td>31</td>\n",
       "      <td>2778</td>\n",
       "      <td>...</td>\n",
       "      <td>0</td>\n",
       "      <td>0</td>\n",
       "      <td>0</td>\n",
       "      <td>0</td>\n",
       "      <td>0</td>\n",
       "      <td>0</td>\n",
       "      <td>0</td>\n",
       "      <td>0</td>\n",
       "      <td>0</td>\n",
       "      <td>0</td>\n",
       "    </tr>\n",
       "    <tr>\n",
       "      <th>2</th>\n",
       "      <td>Sedan</td>\n",
       "      <td>Asia</td>\n",
       "      <td>Front</td>\n",
       "      <td>26990</td>\n",
       "      <td>24647</td>\n",
       "      <td>2.4</td>\n",
       "      <td>4.0</td>\n",
       "      <td>200</td>\n",
       "      <td>29</td>\n",
       "      <td>3230</td>\n",
       "      <td>...</td>\n",
       "      <td>0</td>\n",
       "      <td>0</td>\n",
       "      <td>0</td>\n",
       "      <td>0</td>\n",
       "      <td>0</td>\n",
       "      <td>0</td>\n",
       "      <td>0</td>\n",
       "      <td>0</td>\n",
       "      <td>0</td>\n",
       "      <td>0</td>\n",
       "    </tr>\n",
       "    <tr>\n",
       "      <th>3</th>\n",
       "      <td>Sedan</td>\n",
       "      <td>Asia</td>\n",
       "      <td>Front</td>\n",
       "      <td>33195</td>\n",
       "      <td>30299</td>\n",
       "      <td>3.2</td>\n",
       "      <td>6.0</td>\n",
       "      <td>270</td>\n",
       "      <td>28</td>\n",
       "      <td>3575</td>\n",
       "      <td>...</td>\n",
       "      <td>0</td>\n",
       "      <td>0</td>\n",
       "      <td>0</td>\n",
       "      <td>0</td>\n",
       "      <td>0</td>\n",
       "      <td>0</td>\n",
       "      <td>0</td>\n",
       "      <td>0</td>\n",
       "      <td>0</td>\n",
       "      <td>0</td>\n",
       "    </tr>\n",
       "    <tr>\n",
       "      <th>4</th>\n",
       "      <td>Sedan</td>\n",
       "      <td>Asia</td>\n",
       "      <td>Front</td>\n",
       "      <td>43755</td>\n",
       "      <td>39014</td>\n",
       "      <td>3.5</td>\n",
       "      <td>6.0</td>\n",
       "      <td>225</td>\n",
       "      <td>24</td>\n",
       "      <td>3880</td>\n",
       "      <td>...</td>\n",
       "      <td>0</td>\n",
       "      <td>0</td>\n",
       "      <td>0</td>\n",
       "      <td>0</td>\n",
       "      <td>0</td>\n",
       "      <td>0</td>\n",
       "      <td>0</td>\n",
       "      <td>0</td>\n",
       "      <td>0</td>\n",
       "      <td>0</td>\n",
       "    </tr>\n",
       "    <tr>\n",
       "      <th>...</th>\n",
       "      <td>...</td>\n",
       "      <td>...</td>\n",
       "      <td>...</td>\n",
       "      <td>...</td>\n",
       "      <td>...</td>\n",
       "      <td>...</td>\n",
       "      <td>...</td>\n",
       "      <td>...</td>\n",
       "      <td>...</td>\n",
       "      <td>...</td>\n",
       "      <td>...</td>\n",
       "      <td>...</td>\n",
       "      <td>...</td>\n",
       "      <td>...</td>\n",
       "      <td>...</td>\n",
       "      <td>...</td>\n",
       "      <td>...</td>\n",
       "      <td>...</td>\n",
       "      <td>...</td>\n",
       "      <td>...</td>\n",
       "      <td>...</td>\n",
       "    </tr>\n",
       "    <tr>\n",
       "      <th>423</th>\n",
       "      <td>Sedan</td>\n",
       "      <td>Europe</td>\n",
       "      <td>Front</td>\n",
       "      <td>40565</td>\n",
       "      <td>38203</td>\n",
       "      <td>2.4</td>\n",
       "      <td>5.0</td>\n",
       "      <td>197</td>\n",
       "      <td>28</td>\n",
       "      <td>3450</td>\n",
       "      <td>...</td>\n",
       "      <td>0</td>\n",
       "      <td>0</td>\n",
       "      <td>0</td>\n",
       "      <td>0</td>\n",
       "      <td>0</td>\n",
       "      <td>0</td>\n",
       "      <td>0</td>\n",
       "      <td>0</td>\n",
       "      <td>0</td>\n",
       "      <td>1</td>\n",
       "    </tr>\n",
       "    <tr>\n",
       "      <th>424</th>\n",
       "      <td>Sedan</td>\n",
       "      <td>Europe</td>\n",
       "      <td>Front</td>\n",
       "      <td>42565</td>\n",
       "      <td>40083</td>\n",
       "      <td>2.3</td>\n",
       "      <td>5.0</td>\n",
       "      <td>242</td>\n",
       "      <td>26</td>\n",
       "      <td>3450</td>\n",
       "      <td>...</td>\n",
       "      <td>0</td>\n",
       "      <td>0</td>\n",
       "      <td>0</td>\n",
       "      <td>0</td>\n",
       "      <td>0</td>\n",
       "      <td>0</td>\n",
       "      <td>0</td>\n",
       "      <td>0</td>\n",
       "      <td>0</td>\n",
       "      <td>1</td>\n",
       "    </tr>\n",
       "    <tr>\n",
       "      <th>425</th>\n",
       "      <td>Sedan</td>\n",
       "      <td>Europe</td>\n",
       "      <td>Front</td>\n",
       "      <td>45210</td>\n",
       "      <td>42573</td>\n",
       "      <td>2.9</td>\n",
       "      <td>6.0</td>\n",
       "      <td>268</td>\n",
       "      <td>26</td>\n",
       "      <td>3653</td>\n",
       "      <td>...</td>\n",
       "      <td>0</td>\n",
       "      <td>0</td>\n",
       "      <td>0</td>\n",
       "      <td>0</td>\n",
       "      <td>0</td>\n",
       "      <td>0</td>\n",
       "      <td>0</td>\n",
       "      <td>0</td>\n",
       "      <td>0</td>\n",
       "      <td>1</td>\n",
       "    </tr>\n",
       "    <tr>\n",
       "      <th>426</th>\n",
       "      <td>Wagon</td>\n",
       "      <td>Europe</td>\n",
       "      <td>Front</td>\n",
       "      <td>26135</td>\n",
       "      <td>24641</td>\n",
       "      <td>1.9</td>\n",
       "      <td>4.0</td>\n",
       "      <td>170</td>\n",
       "      <td>29</td>\n",
       "      <td>2822</td>\n",
       "      <td>...</td>\n",
       "      <td>0</td>\n",
       "      <td>0</td>\n",
       "      <td>0</td>\n",
       "      <td>0</td>\n",
       "      <td>0</td>\n",
       "      <td>0</td>\n",
       "      <td>0</td>\n",
       "      <td>0</td>\n",
       "      <td>0</td>\n",
       "      <td>1</td>\n",
       "    </tr>\n",
       "    <tr>\n",
       "      <th>427</th>\n",
       "      <td>Wagon</td>\n",
       "      <td>Europe</td>\n",
       "      <td>All</td>\n",
       "      <td>35145</td>\n",
       "      <td>33112</td>\n",
       "      <td>2.5</td>\n",
       "      <td>5.0</td>\n",
       "      <td>208</td>\n",
       "      <td>27</td>\n",
       "      <td>3823</td>\n",
       "      <td>...</td>\n",
       "      <td>0</td>\n",
       "      <td>0</td>\n",
       "      <td>0</td>\n",
       "      <td>0</td>\n",
       "      <td>0</td>\n",
       "      <td>0</td>\n",
       "      <td>0</td>\n",
       "      <td>0</td>\n",
       "      <td>0</td>\n",
       "      <td>1</td>\n",
       "    </tr>\n",
       "  </tbody>\n",
       "</table>\n",
       "<p>428 rows × 51 columns</p>\n",
       "</div>"
      ],
      "text/plain": [
       "      Type  Origin DriveTrain   MSRP  Invoice  EngineSize  Cylinders  \\\n",
       "0      SUV    Asia        All  36945    33337         3.5        6.0   \n",
       "1    Sedan    Asia      Front  23820    21761         2.0        4.0   \n",
       "2    Sedan    Asia      Front  26990    24647         2.4        4.0   \n",
       "3    Sedan    Asia      Front  33195    30299         3.2        6.0   \n",
       "4    Sedan    Asia      Front  43755    39014         3.5        6.0   \n",
       "..     ...     ...        ...    ...      ...         ...        ...   \n",
       "423  Sedan  Europe      Front  40565    38203         2.4        5.0   \n",
       "424  Sedan  Europe      Front  42565    40083         2.3        5.0   \n",
       "425  Sedan  Europe      Front  45210    42573         2.9        6.0   \n",
       "426  Wagon  Europe      Front  26135    24641         1.9        4.0   \n",
       "427  Wagon  Europe        All  35145    33112         2.5        5.0   \n",
       "\n",
       "     Horsepower  MPG_Highway  Weight  ...  Make_Pontiac  Make_Porsche  \\\n",
       "0           265           23    4451  ...             0             0   \n",
       "1           200           31    2778  ...             0             0   \n",
       "2           200           29    3230  ...             0             0   \n",
       "3           270           28    3575  ...             0             0   \n",
       "4           225           24    3880  ...             0             0   \n",
       "..          ...          ...     ...  ...           ...           ...   \n",
       "423         197           28    3450  ...             0             0   \n",
       "424         242           26    3450  ...             0             0   \n",
       "425         268           26    3653  ...             0             0   \n",
       "426         170           29    2822  ...             0             0   \n",
       "427         208           27    3823  ...             0             0   \n",
       "\n",
       "     Make_Saab  Make_Saturn  Make_Scion  Make_Subaru  Make_Suzuki  \\\n",
       "0            0            0           0            0            0   \n",
       "1            0            0           0            0            0   \n",
       "2            0            0           0            0            0   \n",
       "3            0            0           0            0            0   \n",
       "4            0            0           0            0            0   \n",
       "..         ...          ...         ...          ...          ...   \n",
       "423          0            0           0            0            0   \n",
       "424          0            0           0            0            0   \n",
       "425          0            0           0            0            0   \n",
       "426          0            0           0            0            0   \n",
       "427          0            0           0            0            0   \n",
       "\n",
       "     Make_Toyota  Make_Volkswagen  Make_Volvo  \n",
       "0              0                0           0  \n",
       "1              0                0           0  \n",
       "2              0                0           0  \n",
       "3              0                0           0  \n",
       "4              0                0           0  \n",
       "..           ...              ...         ...  \n",
       "423            0                0           1  \n",
       "424            0                0           1  \n",
       "425            0                0           1  \n",
       "426            0                0           1  \n",
       "427            0                0           1  \n",
       "\n",
       "[428 rows x 51 columns]"
      ]
     },
     "execution_count": 43,
     "metadata": {},
     "output_type": "execute_result"
    }
   ],
   "source": [
    "df"
   ]
  },
  {
   "cell_type": "code",
   "execution_count": 44,
   "id": "6b521b38",
   "metadata": {},
   "outputs": [
    {
     "data": {
      "text/plain": [
       "array(['SUV', 'Sedan', 'Sports', 'Wagon', 'Truck', 'Hybrid'], dtype=object)"
      ]
     },
     "execution_count": 44,
     "metadata": {},
     "output_type": "execute_result"
    }
   ],
   "source": [
    "df[\"Type\"].unique()"
   ]
  },
  {
   "cell_type": "code",
   "execution_count": 45,
   "id": "a514bce2",
   "metadata": {},
   "outputs": [],
   "source": [
    "df['Type'].replace({'SUV': 1,\n",
    " 'Sedan': 2,\n",
    " 'Sports': 3,\n",
    " 'Wagon': 4,\n",
    " 'Truck': 5,\n",
    " 'Hybrid': 6}, inplace=True)"
   ]
  },
  {
   "cell_type": "code",
   "execution_count": 46,
   "id": "d4553752",
   "metadata": {},
   "outputs": [
    {
     "data": {
      "text/plain": [
       "array(['Asia', 'Europe', 'USA'], dtype=object)"
      ]
     },
     "execution_count": 46,
     "metadata": {},
     "output_type": "execute_result"
    }
   ],
   "source": [
    "df[\"Origin\"].unique()"
   ]
  },
  {
   "cell_type": "code",
   "execution_count": 47,
   "id": "a0dda7a8",
   "metadata": {},
   "outputs": [],
   "source": [
    "df['Origin'].replace({'Asia': 1,\n",
    " 'Europe': 2,\n",
    " 'USA': 3}, inplace=True)"
   ]
  },
  {
   "cell_type": "code",
   "execution_count": 48,
   "id": "ff27846e",
   "metadata": {},
   "outputs": [
    {
     "data": {
      "text/plain": [
       "array(['All', 'Front', 'Rear'], dtype=object)"
      ]
     },
     "execution_count": 48,
     "metadata": {},
     "output_type": "execute_result"
    }
   ],
   "source": [
    "df[\"DriveTrain\"].unique()"
   ]
  },
  {
   "cell_type": "code",
   "execution_count": 49,
   "id": "f3cd881c",
   "metadata": {},
   "outputs": [],
   "source": [
    "df['DriveTrain'].replace({'All': 1,\n",
    " 'Front': 2,\n",
    " 'Rear': 3}, inplace=True)"
   ]
  },
  {
   "cell_type": "code",
   "execution_count": 50,
   "id": "9c9c031f",
   "metadata": {},
   "outputs": [],
   "source": [
    "df[\"Cylinders\"]=df[\"Cylinders\"].fillna(df[\"Cylinders\"].median())"
   ]
  },
  {
   "cell_type": "code",
   "execution_count": 51,
   "id": "1d1d7e71",
   "metadata": {},
   "outputs": [
    {
     "data": {
      "text/html": [
       "<div>\n",
       "<style scoped>\n",
       "    .dataframe tbody tr th:only-of-type {\n",
       "        vertical-align: middle;\n",
       "    }\n",
       "\n",
       "    .dataframe tbody tr th {\n",
       "        vertical-align: top;\n",
       "    }\n",
       "\n",
       "    .dataframe thead th {\n",
       "        text-align: right;\n",
       "    }\n",
       "</style>\n",
       "<table border=\"1\" class=\"dataframe\">\n",
       "  <thead>\n",
       "    <tr style=\"text-align: right;\">\n",
       "      <th></th>\n",
       "      <th>Type</th>\n",
       "      <th>Origin</th>\n",
       "      <th>DriveTrain</th>\n",
       "      <th>MSRP</th>\n",
       "      <th>Invoice</th>\n",
       "      <th>EngineSize</th>\n",
       "      <th>Cylinders</th>\n",
       "      <th>Horsepower</th>\n",
       "      <th>MPG_Highway</th>\n",
       "      <th>Weight</th>\n",
       "      <th>...</th>\n",
       "      <th>Make_Pontiac</th>\n",
       "      <th>Make_Porsche</th>\n",
       "      <th>Make_Saab</th>\n",
       "      <th>Make_Saturn</th>\n",
       "      <th>Make_Scion</th>\n",
       "      <th>Make_Subaru</th>\n",
       "      <th>Make_Suzuki</th>\n",
       "      <th>Make_Toyota</th>\n",
       "      <th>Make_Volkswagen</th>\n",
       "      <th>Make_Volvo</th>\n",
       "    </tr>\n",
       "  </thead>\n",
       "  <tbody>\n",
       "    <tr>\n",
       "      <th>Make_Volvo</th>\n",
       "      <td>-0.010043</td>\n",
       "      <td>0.005173</td>\n",
       "      <td>-0.11362</td>\n",
       "      <td>0.030971</td>\n",
       "      <td>0.040495</td>\n",
       "      <td>-0.113258</td>\n",
       "      <td>-0.079296</td>\n",
       "      <td>0.017629</td>\n",
       "      <td>-0.005236</td>\n",
       "      <td>0.003259</td>\n",
       "      <td>...</td>\n",
       "      <td>-0.027585</td>\n",
       "      <td>-0.0219</td>\n",
       "      <td>-0.0219</td>\n",
       "      <td>-0.02344</td>\n",
       "      <td>-0.011637</td>\n",
       "      <td>-0.027585</td>\n",
       "      <td>-0.02344</td>\n",
       "      <td>-0.044936</td>\n",
       "      <td>-0.032368</td>\n",
       "      <td>1.0</td>\n",
       "    </tr>\n",
       "  </tbody>\n",
       "</table>\n",
       "<p>1 rows × 51 columns</p>\n",
       "</div>"
      ],
      "text/plain": [
       "                Type    Origin  DriveTrain      MSRP   Invoice  EngineSize  \\\n",
       "Make_Volvo -0.010043  0.005173    -0.11362  0.030971  0.040495   -0.113258   \n",
       "\n",
       "            Cylinders  Horsepower  MPG_Highway    Weight  ...  Make_Pontiac  \\\n",
       "Make_Volvo  -0.079296    0.017629    -0.005236  0.003259  ...     -0.027585   \n",
       "\n",
       "            Make_Porsche  Make_Saab  Make_Saturn  Make_Scion  Make_Subaru  \\\n",
       "Make_Volvo       -0.0219    -0.0219     -0.02344   -0.011637    -0.027585   \n",
       "\n",
       "            Make_Suzuki  Make_Toyota  Make_Volkswagen  Make_Volvo  \n",
       "Make_Volvo     -0.02344    -0.044936        -0.032368         1.0  \n",
       "\n",
       "[1 rows x 51 columns]"
      ]
     },
     "execution_count": 51,
     "metadata": {},
     "output_type": "execute_result"
    }
   ],
   "source": [
    "df.corr().tail(1)"
   ]
  },
  {
   "cell_type": "code",
   "execution_count": 52,
   "id": "1a2d08aa",
   "metadata": {},
   "outputs": [],
   "source": [
    "x = df.drop(['Millage_City'], axis=1)\n",
    "y = df['Millage_City']\n",
    "\n",
    "x_train,x_test, y_train, y_test = train_test_split(x,y, test_size=0.25, random_state=5)"
   ]
  },
  {
   "cell_type": "code",
   "execution_count": 53,
   "id": "f592ed77",
   "metadata": {},
   "outputs": [
    {
     "data": {
      "text/plain": [
       "((321, 50), (321,), (107, 50), (107,))"
      ]
     },
     "execution_count": 53,
     "metadata": {},
     "output_type": "execute_result"
    }
   ],
   "source": [
    "x_train.shape,y_train.shape, x_test.shape, y_test.shape"
   ]
  },
  {
   "cell_type": "code",
   "execution_count": 54,
   "id": "a191c58e",
   "metadata": {},
   "outputs": [
    {
     "data": {
      "text/html": [
       "<style>#sk-container-id-3 {color: black;background-color: white;}#sk-container-id-3 pre{padding: 0;}#sk-container-id-3 div.sk-toggleable {background-color: white;}#sk-container-id-3 label.sk-toggleable__label {cursor: pointer;display: block;width: 100%;margin-bottom: 0;padding: 0.3em;box-sizing: border-box;text-align: center;}#sk-container-id-3 label.sk-toggleable__label-arrow:before {content: \"▸\";float: left;margin-right: 0.25em;color: #696969;}#sk-container-id-3 label.sk-toggleable__label-arrow:hover:before {color: black;}#sk-container-id-3 div.sk-estimator:hover label.sk-toggleable__label-arrow:before {color: black;}#sk-container-id-3 div.sk-toggleable__content {max-height: 0;max-width: 0;overflow: hidden;text-align: left;background-color: #f0f8ff;}#sk-container-id-3 div.sk-toggleable__content pre {margin: 0.2em;color: black;border-radius: 0.25em;background-color: #f0f8ff;}#sk-container-id-3 input.sk-toggleable__control:checked~div.sk-toggleable__content {max-height: 200px;max-width: 100%;overflow: auto;}#sk-container-id-3 input.sk-toggleable__control:checked~label.sk-toggleable__label-arrow:before {content: \"▾\";}#sk-container-id-3 div.sk-estimator input.sk-toggleable__control:checked~label.sk-toggleable__label {background-color: #d4ebff;}#sk-container-id-3 div.sk-label input.sk-toggleable__control:checked~label.sk-toggleable__label {background-color: #d4ebff;}#sk-container-id-3 input.sk-hidden--visually {border: 0;clip: rect(1px 1px 1px 1px);clip: rect(1px, 1px, 1px, 1px);height: 1px;margin: -1px;overflow: hidden;padding: 0;position: absolute;width: 1px;}#sk-container-id-3 div.sk-estimator {font-family: monospace;background-color: #f0f8ff;border: 1px dotted black;border-radius: 0.25em;box-sizing: border-box;margin-bottom: 0.5em;}#sk-container-id-3 div.sk-estimator:hover {background-color: #d4ebff;}#sk-container-id-3 div.sk-parallel-item::after {content: \"\";width: 100%;border-bottom: 1px solid gray;flex-grow: 1;}#sk-container-id-3 div.sk-label:hover label.sk-toggleable__label {background-color: #d4ebff;}#sk-container-id-3 div.sk-serial::before {content: \"\";position: absolute;border-left: 1px solid gray;box-sizing: border-box;top: 0;bottom: 0;left: 50%;z-index: 0;}#sk-container-id-3 div.sk-serial {display: flex;flex-direction: column;align-items: center;background-color: white;padding-right: 0.2em;padding-left: 0.2em;position: relative;}#sk-container-id-3 div.sk-item {position: relative;z-index: 1;}#sk-container-id-3 div.sk-parallel {display: flex;align-items: stretch;justify-content: center;background-color: white;position: relative;}#sk-container-id-3 div.sk-item::before, #sk-container-id-3 div.sk-parallel-item::before {content: \"\";position: absolute;border-left: 1px solid gray;box-sizing: border-box;top: 0;bottom: 0;left: 50%;z-index: -1;}#sk-container-id-3 div.sk-parallel-item {display: flex;flex-direction: column;z-index: 1;position: relative;background-color: white;}#sk-container-id-3 div.sk-parallel-item:first-child::after {align-self: flex-end;width: 50%;}#sk-container-id-3 div.sk-parallel-item:last-child::after {align-self: flex-start;width: 50%;}#sk-container-id-3 div.sk-parallel-item:only-child::after {width: 0;}#sk-container-id-3 div.sk-dashed-wrapped {border: 1px dashed gray;margin: 0 0.4em 0.5em 0.4em;box-sizing: border-box;padding-bottom: 0.4em;background-color: white;}#sk-container-id-3 div.sk-label label {font-family: monospace;font-weight: bold;display: inline-block;line-height: 1.2em;}#sk-container-id-3 div.sk-label-container {text-align: center;}#sk-container-id-3 div.sk-container {/* jupyter's `normalize.less` sets `[hidden] { display: none; }` but bootstrap.min.css set `[hidden] { display: none !important; }` so we also need the `!important` here to be able to override the default hidden behavior on the sphinx rendered scikit-learn.org. See: https://github.com/scikit-learn/scikit-learn/issues/21755 */display: inline-block !important;position: relative;}#sk-container-id-3 div.sk-text-repr-fallback {display: none;}</style><div id=\"sk-container-id-3\" class=\"sk-top-container\"><div class=\"sk-text-repr-fallback\"><pre>LinearRegression()</pre><b>In a Jupyter environment, please rerun this cell to show the HTML representation or trust the notebook. <br />On GitHub, the HTML representation is unable to render, please try loading this page with nbviewer.org.</b></div><div class=\"sk-container\" hidden><div class=\"sk-item\"><div class=\"sk-estimator sk-toggleable\"><input class=\"sk-toggleable__control sk-hidden--visually\" id=\"sk-estimator-id-3\" type=\"checkbox\" checked><label for=\"sk-estimator-id-3\" class=\"sk-toggleable__label sk-toggleable__label-arrow\">LinearRegression</label><div class=\"sk-toggleable__content\"><pre>LinearRegression()</pre></div></div></div></div></div>"
      ],
      "text/plain": [
       "LinearRegression()"
      ]
     },
     "execution_count": 54,
     "metadata": {},
     "output_type": "execute_result"
    }
   ],
   "source": [
    "model = LinearRegression()\n",
    "model.fit(x_train,y_train)"
   ]
  },
  {
   "cell_type": "code",
   "execution_count": 55,
   "id": "d1856526",
   "metadata": {},
   "outputs": [
    {
     "name": "stdout",
     "output_type": "stream",
     "text": [
      "MSE = 1.8586854620880742\n",
      "RMSE = 1.3633361515371307\n",
      "MAE = 0.9364875273708769\n",
      "R-Squared Value = 0.937258871352723\n",
      "ADJUSTED R - SQUARED VALUE = 0.9289377667575934\n"
     ]
    }
   ],
   "source": [
    "## Training data model Evalaution \n",
    "\n",
    "y_pred = model.predict(x_train)\n",
    "\n",
    "mse = mean_squared_error(y_train,y_pred)\n",
    "print(f\"MSE = {mse}\")\n",
    "print(f\"RMSE = {np.sqrt(mse)}\")\n",
    "\n",
    "mae = mean_absolute_error(y_train,y_pred)\n",
    "print(f\"MAE = {mae}\")\n",
    "\n",
    "r2 = r2_score(y_train,y_pred)\n",
    "print(f\"R-Squared Value = {r2}\")\n",
    "n = x.shape[0]\n",
    "p = x.shape[1]\n",
    "adj_r2 = 1 - (((1-r2)* (n-1)) / (n-p-1))\n",
    "print(f\"ADJUSTED R - SQUARED VALUE = {adj_r2}\")\n"
   ]
  },
  {
   "cell_type": "code",
   "execution_count": 56,
   "id": "91bdcf66",
   "metadata": {},
   "outputs": [
    {
     "name": "stdout",
     "output_type": "stream",
     "text": [
      "MSE = 1.450176321053178\n",
      "RMSE = 1.2042326689860137\n",
      "MAE = 0.9478506529358208\n",
      "R-Squared Value = 0.927775690572825\n",
      "ADJUSTED R - SQUARED VALUE = 0.9181968696938894\n"
     ]
    }
   ],
   "source": [
    "## Testing data model Evalaution \n",
    "\n",
    "y_pred = model.predict(x_test)\n",
    "\n",
    "mse = mean_squared_error(y_test,y_pred)\n",
    "print(f\"MSE = {mse}\")\n",
    "print(f\"RMSE = {np.sqrt(mse)}\")\n",
    "\n",
    "mae = mean_absolute_error(y_test,y_pred)\n",
    "print(f\"MAE = {mae}\")\n",
    "\n",
    "r2 = r2_score(y_test,y_pred)\n",
    "print(f\"R-Squared Value = {r2}\")\n",
    "\n",
    "n = x.shape[0]\n",
    "p = x.shape[1]\n",
    "adj_r2 = 1 - (((1-r2)* (n-1)) / (n-p-1))\n",
    "print(f\"ADJUSTED R - SQUARED VALUE = {adj_r2}\")"
   ]
  },
  {
   "cell_type": "raw",
   "id": "262576ae",
   "metadata": {},
   "source": [
    "## Bias and variance Trade off \n",
    "\n",
    "Bias >> low Bias \n",
    "Variance >> low variance \n",
    "\n",
    "Generelaised / best model"
   ]
  },
  {
   "cell_type": "code",
   "execution_count": 57,
   "id": "6c6f3c60",
   "metadata": {},
   "outputs": [
    {
     "data": {
      "text/html": [
       "<style>#sk-container-id-4 {color: black;background-color: white;}#sk-container-id-4 pre{padding: 0;}#sk-container-id-4 div.sk-toggleable {background-color: white;}#sk-container-id-4 label.sk-toggleable__label {cursor: pointer;display: block;width: 100%;margin-bottom: 0;padding: 0.3em;box-sizing: border-box;text-align: center;}#sk-container-id-4 label.sk-toggleable__label-arrow:before {content: \"▸\";float: left;margin-right: 0.25em;color: #696969;}#sk-container-id-4 label.sk-toggleable__label-arrow:hover:before {color: black;}#sk-container-id-4 div.sk-estimator:hover label.sk-toggleable__label-arrow:before {color: black;}#sk-container-id-4 div.sk-toggleable__content {max-height: 0;max-width: 0;overflow: hidden;text-align: left;background-color: #f0f8ff;}#sk-container-id-4 div.sk-toggleable__content pre {margin: 0.2em;color: black;border-radius: 0.25em;background-color: #f0f8ff;}#sk-container-id-4 input.sk-toggleable__control:checked~div.sk-toggleable__content {max-height: 200px;max-width: 100%;overflow: auto;}#sk-container-id-4 input.sk-toggleable__control:checked~label.sk-toggleable__label-arrow:before {content: \"▾\";}#sk-container-id-4 div.sk-estimator input.sk-toggleable__control:checked~label.sk-toggleable__label {background-color: #d4ebff;}#sk-container-id-4 div.sk-label input.sk-toggleable__control:checked~label.sk-toggleable__label {background-color: #d4ebff;}#sk-container-id-4 input.sk-hidden--visually {border: 0;clip: rect(1px 1px 1px 1px);clip: rect(1px, 1px, 1px, 1px);height: 1px;margin: -1px;overflow: hidden;padding: 0;position: absolute;width: 1px;}#sk-container-id-4 div.sk-estimator {font-family: monospace;background-color: #f0f8ff;border: 1px dotted black;border-radius: 0.25em;box-sizing: border-box;margin-bottom: 0.5em;}#sk-container-id-4 div.sk-estimator:hover {background-color: #d4ebff;}#sk-container-id-4 div.sk-parallel-item::after {content: \"\";width: 100%;border-bottom: 1px solid gray;flex-grow: 1;}#sk-container-id-4 div.sk-label:hover label.sk-toggleable__label {background-color: #d4ebff;}#sk-container-id-4 div.sk-serial::before {content: \"\";position: absolute;border-left: 1px solid gray;box-sizing: border-box;top: 0;bottom: 0;left: 50%;z-index: 0;}#sk-container-id-4 div.sk-serial {display: flex;flex-direction: column;align-items: center;background-color: white;padding-right: 0.2em;padding-left: 0.2em;position: relative;}#sk-container-id-4 div.sk-item {position: relative;z-index: 1;}#sk-container-id-4 div.sk-parallel {display: flex;align-items: stretch;justify-content: center;background-color: white;position: relative;}#sk-container-id-4 div.sk-item::before, #sk-container-id-4 div.sk-parallel-item::before {content: \"\";position: absolute;border-left: 1px solid gray;box-sizing: border-box;top: 0;bottom: 0;left: 50%;z-index: -1;}#sk-container-id-4 div.sk-parallel-item {display: flex;flex-direction: column;z-index: 1;position: relative;background-color: white;}#sk-container-id-4 div.sk-parallel-item:first-child::after {align-self: flex-end;width: 50%;}#sk-container-id-4 div.sk-parallel-item:last-child::after {align-self: flex-start;width: 50%;}#sk-container-id-4 div.sk-parallel-item:only-child::after {width: 0;}#sk-container-id-4 div.sk-dashed-wrapped {border: 1px dashed gray;margin: 0 0.4em 0.5em 0.4em;box-sizing: border-box;padding-bottom: 0.4em;background-color: white;}#sk-container-id-4 div.sk-label label {font-family: monospace;font-weight: bold;display: inline-block;line-height: 1.2em;}#sk-container-id-4 div.sk-label-container {text-align: center;}#sk-container-id-4 div.sk-container {/* jupyter's `normalize.less` sets `[hidden] { display: none; }` but bootstrap.min.css set `[hidden] { display: none !important; }` so we also need the `!important` here to be able to override the default hidden behavior on the sphinx rendered scikit-learn.org. See: https://github.com/scikit-learn/scikit-learn/issues/21755 */display: inline-block !important;position: relative;}#sk-container-id-4 div.sk-text-repr-fallback {display: none;}</style><div id=\"sk-container-id-4\" class=\"sk-top-container\"><div class=\"sk-text-repr-fallback\"><pre>LinearRegression()</pre><b>In a Jupyter environment, please rerun this cell to show the HTML representation or trust the notebook. <br />On GitHub, the HTML representation is unable to render, please try loading this page with nbviewer.org.</b></div><div class=\"sk-container\" hidden><div class=\"sk-item\"><div class=\"sk-estimator sk-toggleable\"><input class=\"sk-toggleable__control sk-hidden--visually\" id=\"sk-estimator-id-4\" type=\"checkbox\" checked><label for=\"sk-estimator-id-4\" class=\"sk-toggleable__label sk-toggleable__label-arrow\">LinearRegression</label><div class=\"sk-toggleable__content\"><pre>LinearRegression()</pre></div></div></div></div></div>"
      ],
      "text/plain": [
       "LinearRegression()"
      ]
     },
     "execution_count": 57,
     "metadata": {},
     "output_type": "execute_result"
    }
   ],
   "source": [
    "model"
   ]
  },
  {
   "cell_type": "code",
   "execution_count": 58,
   "id": "09db8cfc",
   "metadata": {},
   "outputs": [],
   "source": [
    "with open('car_model.pkl','wb') as file: \n",
    "    pickle.dump(model,file)"
   ]
  },
  {
   "cell_type": "code",
   "execution_count": 59,
   "id": "7504eb00",
   "metadata": {},
   "outputs": [
    {
     "data": {
      "text/html": [
       "<div>\n",
       "<style scoped>\n",
       "    .dataframe tbody tr th:only-of-type {\n",
       "        vertical-align: middle;\n",
       "    }\n",
       "\n",
       "    .dataframe tbody tr th {\n",
       "        vertical-align: top;\n",
       "    }\n",
       "\n",
       "    .dataframe thead th {\n",
       "        text-align: right;\n",
       "    }\n",
       "</style>\n",
       "<table border=\"1\" class=\"dataframe\">\n",
       "  <thead>\n",
       "    <tr style=\"text-align: right;\">\n",
       "      <th></th>\n",
       "      <th>Type</th>\n",
       "      <th>Origin</th>\n",
       "      <th>DriveTrain</th>\n",
       "      <th>MSRP</th>\n",
       "      <th>Invoice</th>\n",
       "      <th>EngineSize</th>\n",
       "      <th>Cylinders</th>\n",
       "      <th>Horsepower</th>\n",
       "      <th>MPG_Highway</th>\n",
       "      <th>Weight</th>\n",
       "      <th>...</th>\n",
       "      <th>Make_Pontiac</th>\n",
       "      <th>Make_Porsche</th>\n",
       "      <th>Make_Saab</th>\n",
       "      <th>Make_Saturn</th>\n",
       "      <th>Make_Scion</th>\n",
       "      <th>Make_Subaru</th>\n",
       "      <th>Make_Suzuki</th>\n",
       "      <th>Make_Toyota</th>\n",
       "      <th>Make_Volkswagen</th>\n",
       "      <th>Make_Volvo</th>\n",
       "    </tr>\n",
       "  </thead>\n",
       "  <tbody>\n",
       "    <tr>\n",
       "      <th>427</th>\n",
       "      <td>4</td>\n",
       "      <td>2</td>\n",
       "      <td>1</td>\n",
       "      <td>35145</td>\n",
       "      <td>33112</td>\n",
       "      <td>2.5</td>\n",
       "      <td>5.0</td>\n",
       "      <td>208</td>\n",
       "      <td>27</td>\n",
       "      <td>3823</td>\n",
       "      <td>...</td>\n",
       "      <td>0</td>\n",
       "      <td>0</td>\n",
       "      <td>0</td>\n",
       "      <td>0</td>\n",
       "      <td>0</td>\n",
       "      <td>0</td>\n",
       "      <td>0</td>\n",
       "      <td>0</td>\n",
       "      <td>0</td>\n",
       "      <td>1</td>\n",
       "    </tr>\n",
       "  </tbody>\n",
       "</table>\n",
       "<p>1 rows × 50 columns</p>\n",
       "</div>"
      ],
      "text/plain": [
       "     Type  Origin  DriveTrain   MSRP  Invoice  EngineSize  Cylinders  \\\n",
       "427     4       2           1  35145    33112         2.5        5.0   \n",
       "\n",
       "     Horsepower  MPG_Highway  Weight  ...  Make_Pontiac  Make_Porsche  \\\n",
       "427         208           27    3823  ...             0             0   \n",
       "\n",
       "     Make_Saab  Make_Saturn  Make_Scion  Make_Subaru  Make_Suzuki  \\\n",
       "427          0            0           0            0            0   \n",
       "\n",
       "     Make_Toyota  Make_Volkswagen  Make_Volvo  \n",
       "427            0                0           1  \n",
       "\n",
       "[1 rows x 50 columns]"
      ]
     },
     "execution_count": 59,
     "metadata": {},
     "output_type": "execute_result"
    }
   ],
   "source": [
    "data = x.tail(1)\n",
    "data"
   ]
  },
  {
   "cell_type": "code",
   "execution_count": 60,
   "id": "6334e9f5",
   "metadata": {},
   "outputs": [],
   "source": [
    "# 'Make','Type', 'Origin', 'DriveTrain', 'MSRP', 'Invoice', 'EngineSize','Cylinders','Horsepower',\n",
    "# 'MPG_Highway', 'Weight', 'Wheelbase','Length', 'Millage_City'\n",
    "\n",
    "# data = [[]]\n",
    "\n",
    "# millage = model.predict(data)\n",
    "# print(millage)"
   ]
  },
  {
   "cell_type": "code",
   "execution_count": 61,
   "id": "0f629f1b",
   "metadata": {},
   "outputs": [
    {
     "data": {
      "text/plain": [
       "array([20.94836529])"
      ]
     },
     "execution_count": 61,
     "metadata": {},
     "output_type": "execute_result"
    }
   ],
   "source": [
    "result = model.predict(data)\n",
    "result"
   ]
  },
  {
   "cell_type": "code",
   "execution_count": 62,
   "id": "8307d955",
   "metadata": {},
   "outputs": [
    {
     "data": {
      "text/plain": [
       "50"
      ]
     },
     "execution_count": 62,
     "metadata": {},
     "output_type": "execute_result"
    }
   ],
   "source": [
    "len(x.columns)"
   ]
  },
  {
   "cell_type": "code",
   "execution_count": 63,
   "id": "b0342164",
   "metadata": {},
   "outputs": [],
   "source": [
    "columns = {\"Column Names\":x.columns.tolist()}\n",
    "\n",
    "with open('columns_names.json','w') as file: \n",
    "    json.dump(columns,file)"
   ]
  },
  {
   "cell_type": "code",
   "execution_count": 64,
   "id": "7a330e66",
   "metadata": {},
   "outputs": [],
   "source": [
    "encoded_data = {\n",
    "    \"Type\":{'SUV': 1,\n",
    " 'Sedan': 2,\n",
    " 'Sports': 3,\n",
    " 'Wagon': 4,\n",
    " 'Truck': 5,\n",
    " 'Hybrid': 6},\n",
    "    \"Origin\":{'Asia': 1,\n",
    " 'Europe': 2,\n",
    " 'USA': 3},\n",
    "    \"DriveTrain\":{'All': 1,\n",
    " 'Front': 2,\n",
    " 'Rear': 3},\n",
    "}"
   ]
  },
  {
   "cell_type": "code",
   "execution_count": 65,
   "id": "67bee0d7",
   "metadata": {},
   "outputs": [],
   "source": [
    "with open('encoded_data.json','w') as file: \n",
    "    json.dump(encoded_data,file)"
   ]
  },
  {
   "cell_type": "code",
   "execution_count": 66,
   "id": "d9fd8873",
   "metadata": {},
   "outputs": [
    {
     "data": {
      "text/plain": [
       "49"
      ]
     },
     "execution_count": 66,
     "metadata": {},
     "output_type": "execute_result"
    }
   ],
   "source": [
    "index = np.where(x.columns == 'Make_Volvo')[0][0]\n",
    "index"
   ]
  },
  {
   "cell_type": "code",
   "execution_count": 67,
   "id": "af72a7ee",
   "metadata": {},
   "outputs": [
    {
     "data": {
      "text/plain": [
       "427    1\n",
       "Name: Make_Volvo, dtype: uint8"
      ]
     },
     "execution_count": 67,
     "metadata": {},
     "output_type": "execute_result"
    }
   ],
   "source": [
    "data['Make_Volvo']"
   ]
  },
  {
   "cell_type": "code",
   "execution_count": 68,
   "id": "89b057ad",
   "metadata": {},
   "outputs": [],
   "source": [
    "pd.options.display.max_columns = 50"
   ]
  },
  {
   "cell_type": "code",
   "execution_count": 69,
   "id": "6b5f1928",
   "metadata": {},
   "outputs": [
    {
     "data": {
      "text/html": [
       "<div>\n",
       "<style scoped>\n",
       "    .dataframe tbody tr th:only-of-type {\n",
       "        vertical-align: middle;\n",
       "    }\n",
       "\n",
       "    .dataframe tbody tr th {\n",
       "        vertical-align: top;\n",
       "    }\n",
       "\n",
       "    .dataframe thead th {\n",
       "        text-align: right;\n",
       "    }\n",
       "</style>\n",
       "<table border=\"1\" class=\"dataframe\">\n",
       "  <thead>\n",
       "    <tr style=\"text-align: right;\">\n",
       "      <th></th>\n",
       "      <th>Type</th>\n",
       "      <th>Origin</th>\n",
       "      <th>DriveTrain</th>\n",
       "      <th>MSRP</th>\n",
       "      <th>Invoice</th>\n",
       "      <th>EngineSize</th>\n",
       "      <th>Cylinders</th>\n",
       "      <th>Horsepower</th>\n",
       "      <th>MPG_Highway</th>\n",
       "      <th>Weight</th>\n",
       "      <th>Wheelbase</th>\n",
       "      <th>Length</th>\n",
       "      <th>Millage_City</th>\n",
       "      <th>Make_Acura</th>\n",
       "      <th>Make_Audi</th>\n",
       "      <th>Make_BMW</th>\n",
       "      <th>Make_Buick</th>\n",
       "      <th>Make_Cadillac</th>\n",
       "      <th>Make_Chevrolet</th>\n",
       "      <th>Make_Chrysler</th>\n",
       "      <th>Make_Dodge</th>\n",
       "      <th>Make_Ford</th>\n",
       "      <th>Make_GMC</th>\n",
       "      <th>Make_Honda</th>\n",
       "      <th>Make_Hummer</th>\n",
       "      <th>...</th>\n",
       "      <th>Make_Infiniti</th>\n",
       "      <th>Make_Isuzu</th>\n",
       "      <th>Make_Jaguar</th>\n",
       "      <th>Make_Jeep</th>\n",
       "      <th>Make_Kia</th>\n",
       "      <th>Make_Land Rover</th>\n",
       "      <th>Make_Lexus</th>\n",
       "      <th>Make_Lincoln</th>\n",
       "      <th>Make_MINI</th>\n",
       "      <th>Make_Mazda</th>\n",
       "      <th>Make_Mercedes-Benz</th>\n",
       "      <th>Make_Mercury</th>\n",
       "      <th>Make_Mitsubishi</th>\n",
       "      <th>Make_Nissan</th>\n",
       "      <th>Make_Oldsmobile</th>\n",
       "      <th>Make_Pontiac</th>\n",
       "      <th>Make_Porsche</th>\n",
       "      <th>Make_Saab</th>\n",
       "      <th>Make_Saturn</th>\n",
       "      <th>Make_Scion</th>\n",
       "      <th>Make_Subaru</th>\n",
       "      <th>Make_Suzuki</th>\n",
       "      <th>Make_Toyota</th>\n",
       "      <th>Make_Volkswagen</th>\n",
       "      <th>Make_Volvo</th>\n",
       "    </tr>\n",
       "  </thead>\n",
       "  <tbody>\n",
       "    <tr>\n",
       "      <th>427</th>\n",
       "      <td>4</td>\n",
       "      <td>2</td>\n",
       "      <td>1</td>\n",
       "      <td>35145</td>\n",
       "      <td>33112</td>\n",
       "      <td>2.5</td>\n",
       "      <td>5.0</td>\n",
       "      <td>208</td>\n",
       "      <td>27</td>\n",
       "      <td>3823</td>\n",
       "      <td>109</td>\n",
       "      <td>186</td>\n",
       "      <td>20</td>\n",
       "      <td>0</td>\n",
       "      <td>0</td>\n",
       "      <td>0</td>\n",
       "      <td>0</td>\n",
       "      <td>0</td>\n",
       "      <td>0</td>\n",
       "      <td>0</td>\n",
       "      <td>0</td>\n",
       "      <td>0</td>\n",
       "      <td>0</td>\n",
       "      <td>0</td>\n",
       "      <td>0</td>\n",
       "      <td>...</td>\n",
       "      <td>0</td>\n",
       "      <td>0</td>\n",
       "      <td>0</td>\n",
       "      <td>0</td>\n",
       "      <td>0</td>\n",
       "      <td>0</td>\n",
       "      <td>0</td>\n",
       "      <td>0</td>\n",
       "      <td>0</td>\n",
       "      <td>0</td>\n",
       "      <td>0</td>\n",
       "      <td>0</td>\n",
       "      <td>0</td>\n",
       "      <td>0</td>\n",
       "      <td>0</td>\n",
       "      <td>0</td>\n",
       "      <td>0</td>\n",
       "      <td>0</td>\n",
       "      <td>0</td>\n",
       "      <td>0</td>\n",
       "      <td>0</td>\n",
       "      <td>0</td>\n",
       "      <td>0</td>\n",
       "      <td>0</td>\n",
       "      <td>1</td>\n",
       "    </tr>\n",
       "  </tbody>\n",
       "</table>\n",
       "<p>1 rows × 51 columns</p>\n",
       "</div>"
      ],
      "text/plain": [
       "     Type  Origin  DriveTrain   MSRP  Invoice  EngineSize  Cylinders  \\\n",
       "427     4       2           1  35145    33112         2.5        5.0   \n",
       "\n",
       "     Horsepower  MPG_Highway  Weight  Wheelbase  Length  Millage_City  \\\n",
       "427         208           27    3823        109     186            20   \n",
       "\n",
       "     Make_Acura  Make_Audi  Make_BMW  Make_Buick  Make_Cadillac  \\\n",
       "427           0          0         0           0              0   \n",
       "\n",
       "     Make_Chevrolet  Make_Chrysler  Make_Dodge  Make_Ford  Make_GMC  \\\n",
       "427               0              0           0          0         0   \n",
       "\n",
       "     Make_Honda  Make_Hummer  ...  Make_Infiniti  Make_Isuzu  Make_Jaguar  \\\n",
       "427           0            0  ...              0           0            0   \n",
       "\n",
       "     Make_Jeep  Make_Kia  Make_Land Rover  Make_Lexus  Make_Lincoln  \\\n",
       "427          0         0                0           0             0   \n",
       "\n",
       "     Make_MINI  Make_Mazda  Make_Mercedes-Benz  Make_Mercury  Make_Mitsubishi  \\\n",
       "427          0           0                   0             0                0   \n",
       "\n",
       "     Make_Nissan  Make_Oldsmobile  Make_Pontiac  Make_Porsche  Make_Saab  \\\n",
       "427            0                0             0             0          0   \n",
       "\n",
       "     Make_Saturn  Make_Scion  Make_Subaru  Make_Suzuki  Make_Toyota  \\\n",
       "427            0           0            0            0            0   \n",
       "\n",
       "     Make_Volkswagen  Make_Volvo  \n",
       "427                0           1  \n",
       "\n",
       "[1 rows x 51 columns]"
      ]
     },
     "execution_count": 69,
     "metadata": {},
     "output_type": "execute_result"
    }
   ],
   "source": [
    "df.tail(1)"
   ]
  },
  {
   "cell_type": "code",
   "execution_count": 70,
   "id": "0e63bc8d",
   "metadata": {},
   "outputs": [
    {
     "data": {
      "text/html": [
       "<div>\n",
       "<style scoped>\n",
       "    .dataframe tbody tr th:only-of-type {\n",
       "        vertical-align: middle;\n",
       "    }\n",
       "\n",
       "    .dataframe tbody tr th {\n",
       "        vertical-align: top;\n",
       "    }\n",
       "\n",
       "    .dataframe thead th {\n",
       "        text-align: right;\n",
       "    }\n",
       "</style>\n",
       "<table border=\"1\" class=\"dataframe\">\n",
       "  <thead>\n",
       "    <tr style=\"text-align: right;\">\n",
       "      <th></th>\n",
       "      <th>Type</th>\n",
       "      <th>Origin</th>\n",
       "      <th>DriveTrain</th>\n",
       "      <th>MSRP</th>\n",
       "      <th>Invoice</th>\n",
       "      <th>EngineSize</th>\n",
       "      <th>Cylinders</th>\n",
       "      <th>Horsepower</th>\n",
       "      <th>MPG_Highway</th>\n",
       "      <th>Weight</th>\n",
       "      <th>Wheelbase</th>\n",
       "      <th>Length</th>\n",
       "      <th>Make_Acura</th>\n",
       "      <th>Make_Audi</th>\n",
       "      <th>Make_BMW</th>\n",
       "      <th>Make_Buick</th>\n",
       "      <th>Make_Cadillac</th>\n",
       "      <th>Make_Chevrolet</th>\n",
       "      <th>Make_Chrysler</th>\n",
       "      <th>Make_Dodge</th>\n",
       "      <th>Make_Ford</th>\n",
       "      <th>Make_GMC</th>\n",
       "      <th>Make_Honda</th>\n",
       "      <th>Make_Hummer</th>\n",
       "      <th>Make_Hyundai</th>\n",
       "      <th>Make_Infiniti</th>\n",
       "      <th>Make_Isuzu</th>\n",
       "      <th>Make_Jaguar</th>\n",
       "      <th>Make_Jeep</th>\n",
       "      <th>Make_Kia</th>\n",
       "      <th>Make_Land Rover</th>\n",
       "      <th>Make_Lexus</th>\n",
       "      <th>Make_Lincoln</th>\n",
       "      <th>Make_MINI</th>\n",
       "      <th>Make_Mazda</th>\n",
       "      <th>Make_Mercedes-Benz</th>\n",
       "      <th>Make_Mercury</th>\n",
       "      <th>Make_Mitsubishi</th>\n",
       "      <th>Make_Nissan</th>\n",
       "      <th>Make_Oldsmobile</th>\n",
       "      <th>Make_Pontiac</th>\n",
       "      <th>Make_Porsche</th>\n",
       "      <th>Make_Saab</th>\n",
       "      <th>Make_Saturn</th>\n",
       "      <th>Make_Scion</th>\n",
       "      <th>Make_Subaru</th>\n",
       "      <th>Make_Suzuki</th>\n",
       "      <th>Make_Toyota</th>\n",
       "      <th>Make_Volkswagen</th>\n",
       "      <th>Make_Volvo</th>\n",
       "    </tr>\n",
       "  </thead>\n",
       "  <tbody>\n",
       "    <tr>\n",
       "      <th>427</th>\n",
       "      <td>4</td>\n",
       "      <td>2</td>\n",
       "      <td>1</td>\n",
       "      <td>35145</td>\n",
       "      <td>33112</td>\n",
       "      <td>2.5</td>\n",
       "      <td>5.0</td>\n",
       "      <td>208</td>\n",
       "      <td>27</td>\n",
       "      <td>3823</td>\n",
       "      <td>109</td>\n",
       "      <td>186</td>\n",
       "      <td>0</td>\n",
       "      <td>0</td>\n",
       "      <td>0</td>\n",
       "      <td>0</td>\n",
       "      <td>0</td>\n",
       "      <td>0</td>\n",
       "      <td>0</td>\n",
       "      <td>0</td>\n",
       "      <td>0</td>\n",
       "      <td>0</td>\n",
       "      <td>0</td>\n",
       "      <td>0</td>\n",
       "      <td>0</td>\n",
       "      <td>0</td>\n",
       "      <td>0</td>\n",
       "      <td>0</td>\n",
       "      <td>0</td>\n",
       "      <td>0</td>\n",
       "      <td>0</td>\n",
       "      <td>0</td>\n",
       "      <td>0</td>\n",
       "      <td>0</td>\n",
       "      <td>0</td>\n",
       "      <td>0</td>\n",
       "      <td>0</td>\n",
       "      <td>0</td>\n",
       "      <td>0</td>\n",
       "      <td>0</td>\n",
       "      <td>0</td>\n",
       "      <td>0</td>\n",
       "      <td>0</td>\n",
       "      <td>0</td>\n",
       "      <td>0</td>\n",
       "      <td>0</td>\n",
       "      <td>0</td>\n",
       "      <td>0</td>\n",
       "      <td>0</td>\n",
       "      <td>1</td>\n",
       "    </tr>\n",
       "  </tbody>\n",
       "</table>\n",
       "</div>"
      ],
      "text/plain": [
       "     Type  Origin  DriveTrain   MSRP  Invoice  EngineSize  Cylinders  \\\n",
       "427     4       2           1  35145    33112         2.5        5.0   \n",
       "\n",
       "     Horsepower  MPG_Highway  Weight  Wheelbase  Length  Make_Acura  \\\n",
       "427         208           27    3823        109     186           0   \n",
       "\n",
       "     Make_Audi  Make_BMW  Make_Buick  Make_Cadillac  Make_Chevrolet  \\\n",
       "427          0         0           0              0               0   \n",
       "\n",
       "     Make_Chrysler  Make_Dodge  Make_Ford  Make_GMC  Make_Honda  Make_Hummer  \\\n",
       "427              0           0          0         0           0            0   \n",
       "\n",
       "     Make_Hyundai  Make_Infiniti  Make_Isuzu  Make_Jaguar  Make_Jeep  \\\n",
       "427             0              0           0            0          0   \n",
       "\n",
       "     Make_Kia  Make_Land Rover  Make_Lexus  Make_Lincoln  Make_MINI  \\\n",
       "427         0                0           0             0          0   \n",
       "\n",
       "     Make_Mazda  Make_Mercedes-Benz  Make_Mercury  Make_Mitsubishi  \\\n",
       "427           0                   0             0                0   \n",
       "\n",
       "     Make_Nissan  Make_Oldsmobile  Make_Pontiac  Make_Porsche  Make_Saab  \\\n",
       "427            0                0             0             0          0   \n",
       "\n",
       "     Make_Saturn  Make_Scion  Make_Subaru  Make_Suzuki  Make_Toyota  \\\n",
       "427            0           0            0            0            0   \n",
       "\n",
       "     Make_Volkswagen  Make_Volvo  \n",
       "427                0           1  "
      ]
     },
     "execution_count": 70,
     "metadata": {},
     "output_type": "execute_result"
    }
   ],
   "source": [
    "data"
   ]
  },
  {
   "cell_type": "code",
   "execution_count": null,
   "id": "ef8cdec9",
   "metadata": {},
   "outputs": [],
   "source": []
  }
 ],
 "metadata": {
  "kernelspec": {
   "display_name": "Python 3 (ipykernel)",
   "language": "python",
   "name": "python3"
  },
  "language_info": {
   "codemirror_mode": {
    "name": "ipython",
    "version": 3
   },
   "file_extension": ".py",
   "mimetype": "text/x-python",
   "name": "python",
   "nbconvert_exporter": "python",
   "pygments_lexer": "ipython3",
   "version": "3.10.7"
  }
 },
 "nbformat": 4,
 "nbformat_minor": 5
}
